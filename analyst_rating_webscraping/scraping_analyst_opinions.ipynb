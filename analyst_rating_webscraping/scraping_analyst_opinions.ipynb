{
 "cells": [
  {
   "cell_type": "markdown",
   "metadata": {},
   "source": [
    "# Scraping Analyst Opinions"
   ]
  },
  {
   "cell_type": "code",
   "execution_count": 2,
   "metadata": {
    "collapsed": true
   },
   "outputs": [],
   "source": [
    "import pandas as pd\n",
    "import pymongo\n",
    "import re\n",
    "from re import sub\n",
    "from decimal import Decimal\n",
    "from pymongo import MongoClient\n",
    "import numpy as np\n",
    "import datetime\n",
    "import matplotlib.pyplot as plt\n",
    "import pylab\n",
    "import scipy\n",
    "from bs4 import BeautifulSoup\n",
    "import urllib"
   ]
  },
  {
   "cell_type": "code",
   "execution_count": 241,
   "metadata": {
    "collapsed": true
   },
   "outputs": [],
   "source": [
    "all_constituents = ['Allianz', 'Adidas', 'BASF', 'Bayer', 'Beiersdorf','BMW', 'Commerzbank', 'Continental', 'Daimler','Deutsche_Bank', 'Deutsche_Boerse', 'Deutsche_Post','Deutsche_Telekom', 'EON', 'Fresenius', 'HeidelbergCement', 'Infineon','Linde','Lufthansa', 'Merck', 'RWE', 'Siemens', 'Thyssenkrupp','Vonovia','Fresenius_Medical_Care','Munich_RE','ProSiebenSat1_Media','Volkswagen_vz']"
   ]
  },
  {
   "cell_type": "markdown",
   "metadata": {},
   "source": [
    "## Business Insider Analyst Data"
   ]
  },
  {
   "cell_type": "code",
   "execution_count": 307,
   "metadata": {
    "collapsed": false
   },
   "outputs": [],
   "source": [
    "#Write a function that extract analyst data for all stocks\n",
    "def analyst_businessinsider(constituents_list): \n",
    "    analyst_opinion_table = pd.DataFrame()\n",
    "    #constituents_list = ['Adidas', 'Commerzbank', 'BMW', 'Deutsche_Bank', 'EON']\n",
    "    #all_constituents = ['Allianz', 'Adidas', 'BASF', 'Bayer', 'Beiersdorf','BMW', 'Commerzbank', 'Continental', 'Daimler', 'Deutsche_Boerse', 'Deutsche_Post','Deutsche_Telekom', 'Deutsche_Bank','EON', 'Fresenius', 'HeidelbergCement', 'Infineon','Linde','Lufthansa', 'Merck', 'RWE', 'Siemens', 'thyssenkrupp','Vonovia','Fresenius_Medical_Care','Munich_RE','ProSiebenSat1_Media','Volkswagen_vz']\n",
    "    #constituents_list = all_constituents\n",
    "    for constituent in constituents_list:\n",
    "        #print constituent\n",
    "        if constituent == 'SAP':\n",
    "            url = 'http://www.reuters.com/finance/stocks/analyst/SAP'\n",
    "            soup = BeautifulSoup(r,'lxml')\n",
    "            tables = soup.find_all('div', class_='moduleBody')\n",
    "            analyst_recommendation = tables[2].find_all('td',class_='data')\n",
    "            rating = float(analyst_recommendation[-4].text)     \n",
    "        #print constituent\n",
    "        url = 'http://markets.businessinsider.com/stock/'+constituent+'/analysts-opinions'\n",
    "        r = urllib.urlopen(url).read()\n",
    "        soup = BeautifulSoup(r,'lxml')\n",
    "        rating_extract = soup.find_all(\"div\",class_=\"rating\")\n",
    "        rating = float(rating_extract[0].text)\n",
    "                             \n",
    "        #Obtain the data inside the table as a resultset (list) and extract the text. \n",
    "        opinions = soup.find_all(\"td\",class_=[\"bar buy\",'bar overweight',\"bar hold\",\"bar underweight\",\"bar sell\"])\n",
    "        opinions_data = [int(x.text) for x in opinions]\n",
    "        buy_count=opinions_data[0]+opinions_data[1]\n",
    "        hold_count=opinions_data[2]\n",
    "        sell_count=opinions_data[3]+opinions_data[4]\n",
    "        total = buy_count+hold_count+ sell_count\n",
    "    \n",
    "        #Find analyst target for stock prices\n",
    "        letters = soup.find_all(\"table\",class_='table table-small no-margin-bottom')\n",
    "        letters2 = letters[0].find_all(\"td\")\n",
    "        target_list = [str(x.text.strip()) for x in letters2]\n",
    "\n",
    "        #Extract the prices. \n",
    "        median_target = round(float(target_list[5].replace(\"EUR\",\"\")),2)\n",
    "        highest_target = round(float(target_list[7].replace(\"EUR\",\"\")),2)\n",
    "        lowest_target = round(float(target_list[9].replace(\"EUR\",\"\")),2)\n",
    "\n",
    "                             \n",
    "        #Allocate a status according to the rating\n",
    "        if rating <= 2:\n",
    "            rating_result='Strong buy'\n",
    "        elif rating <= 2.8:\n",
    "            rating_result = 'Moderate buy'\n",
    "        elif rating <= 3.2:\n",
    "            rating_result = 'Hold'\n",
    "        elif rating <=4:\n",
    "            rating_result = 'Moderate sell'\n",
    "        else: \n",
    "            rating_result = 'Strong sell'\n",
    "        \n",
    "        analyst_opinion_table = analyst_opinion_table.append(pd.DataFrame({'Constituent':constituent,'Analyst rating': rating, 'Analyst recommendation': rating_result,'Buy':buy_count,'Hold':hold_count,'Sell':sell_count,'% Buy':round(buy_count*1.0/total,2),'% Hold':round(hold_count*1.0/total,2),'% Sell':round(sell_count*1.0/total,2),'Median target price':median_target, 'Highest target price':highest_target,'Lowest target price':lowest_target},index=[0]),ignore_index=True)\n",
    "    columnsTitles = ['Constituent','Analyst rating','Analyst recommendation', 'Buy','Hold','Sell','% Buy','% Hold','% Sell','Median target price','Highest target price','Lowest target price']\n",
    "    analyst_opinion_table =analyst_opinion_table.reindex(columns=columnsTitles)\n",
    "    return analyst_opinion_table"
   ]
  },
  {
   "cell_type": "code",
   "execution_count": 308,
   "metadata": {
    "collapsed": false
   },
   "outputs": [],
   "source": [
    "constituents_list=['Adidas', 'Commerzbank', 'BMW', 'Deutsche_Bank', 'EON']\n",
    "analyst_opinions_table=analyst_businessinsider(constituents_list)"
   ]
  },
  {
   "cell_type": "code",
   "execution_count": 260,
   "metadata": {
    "collapsed": false
   },
   "outputs": [
    {
     "data": {
      "text/html": [
       "<div>\n",
       "<table border=\"1\" class=\"dataframe\">\n",
       "  <thead>\n",
       "    <tr style=\"text-align: right;\">\n",
       "      <th></th>\n",
       "      <th>Constituent</th>\n",
       "      <th>Analyst rating</th>\n",
       "      <th>Analyst recommendation</th>\n",
       "      <th>Buy</th>\n",
       "      <th>Hold</th>\n",
       "      <th>Sell</th>\n",
       "      <th>% Buy</th>\n",
       "      <th>% Hold</th>\n",
       "      <th>% Sell</th>\n",
       "      <th>Median target price</th>\n",
       "      <th>Highest target price</th>\n",
       "      <th>Lowest target price</th>\n",
       "    </tr>\n",
       "  </thead>\n",
       "  <tbody>\n",
       "    <tr>\n",
       "      <th>0</th>\n",
       "      <td>Adidas</td>\n",
       "      <td>2.4</td>\n",
       "      <td>Moderate buy</td>\n",
       "      <td>16</td>\n",
       "      <td>18</td>\n",
       "      <td>5</td>\n",
       "      <td>0.41</td>\n",
       "      <td>0.46</td>\n",
       "      <td>0.13</td>\n",
       "      <td>194.70</td>\n",
       "      <td>230.0</td>\n",
       "      <td>120.0</td>\n",
       "    </tr>\n",
       "    <tr>\n",
       "      <th>1</th>\n",
       "      <td>Commerzbank</td>\n",
       "      <td>2.9</td>\n",
       "      <td>Hold</td>\n",
       "      <td>5</td>\n",
       "      <td>13</td>\n",
       "      <td>3</td>\n",
       "      <td>0.24</td>\n",
       "      <td>0.62</td>\n",
       "      <td>0.14</td>\n",
       "      <td>10.25</td>\n",
       "      <td>12.8</td>\n",
       "      <td>8.5</td>\n",
       "    </tr>\n",
       "    <tr>\n",
       "      <th>2</th>\n",
       "      <td>BMW</td>\n",
       "      <td>2.4</td>\n",
       "      <td>Moderate buy</td>\n",
       "      <td>13</td>\n",
       "      <td>12</td>\n",
       "      <td>4</td>\n",
       "      <td>0.45</td>\n",
       "      <td>0.41</td>\n",
       "      <td>0.14</td>\n",
       "      <td>91.49</td>\n",
       "      <td>120.0</td>\n",
       "      <td>71.9</td>\n",
       "    </tr>\n",
       "    <tr>\n",
       "      <th>3</th>\n",
       "      <td>Deutsche_Bank</td>\n",
       "      <td>3.4</td>\n",
       "      <td>Moderate sell</td>\n",
       "      <td>5</td>\n",
       "      <td>11</td>\n",
       "      <td>12</td>\n",
       "      <td>0.18</td>\n",
       "      <td>0.39</td>\n",
       "      <td>0.43</td>\n",
       "      <td>15.31</td>\n",
       "      <td>20.0</td>\n",
       "      <td>9.5</td>\n",
       "    </tr>\n",
       "    <tr>\n",
       "      <th>4</th>\n",
       "      <td>EON</td>\n",
       "      <td>2.0</td>\n",
       "      <td>Strong buy</td>\n",
       "      <td>20</td>\n",
       "      <td>5</td>\n",
       "      <td>5</td>\n",
       "      <td>0.67</td>\n",
       "      <td>0.17</td>\n",
       "      <td>0.17</td>\n",
       "      <td>9.76</td>\n",
       "      <td>11.6</td>\n",
       "      <td>7.9</td>\n",
       "    </tr>\n",
       "  </tbody>\n",
       "</table>\n",
       "</div>"
      ],
      "text/plain": [
       "     Constituent  Analyst rating Analyst recommendation  Buy  Hold  Sell  \\\n",
       "0         Adidas             2.4           Moderate buy   16    18     5   \n",
       "1    Commerzbank             2.9                   Hold    5    13     3   \n",
       "2            BMW             2.4           Moderate buy   13    12     4   \n",
       "3  Deutsche_Bank             3.4          Moderate sell    5    11    12   \n",
       "4            EON             2.0             Strong buy   20     5     5   \n",
       "\n",
       "   % Buy  % Hold  % Sell  Median target price  Highest target price  \\\n",
       "0   0.41    0.46    0.13               194.70                 230.0   \n",
       "1   0.24    0.62    0.14                10.25                  12.8   \n",
       "2   0.45    0.41    0.14                91.49                 120.0   \n",
       "3   0.18    0.39    0.43                15.31                  20.0   \n",
       "4   0.67    0.17    0.17                 9.76                  11.6   \n",
       "\n",
       "   Lowest target price  \n",
       "0                120.0  \n",
       "1                  8.5  \n",
       "2                 71.9  \n",
       "3                  9.5  \n",
       "4                  7.9  "
      ]
     },
     "execution_count": 260,
     "metadata": {},
     "output_type": "execute_result"
    }
   ],
   "source": [
    "analyst_opinions_table \n",
    "#analyst_opinions_table.to_csv('analyst_opinions_table.csv', encoding = 'utf-8', index = False)"
   ]
  },
  {
   "cell_type": "markdown",
   "metadata": {},
   "source": [
    "## Back-up websites for scraping"
   ]
  },
  {
   "cell_type": "code",
   "execution_count": null,
   "metadata": {
    "collapsed": true
   },
   "outputs": [],
   "source": [
    "#Collect rating for SAP in case Business Insider doesn't work. Use FT and Reuters   \n",
    "url = 'https://markets.ft.com/data/equities/tearsheet/forecasts?s=DBKX.N:GER'\n",
    "r = urllib.urlopen(url).read()\n",
    "soup = BeautifulSoup(r,'lxml')\n",
    "letters = soup.find_all('table' ,class_='mod-ui-table mod-ui-table--colored')\n",
    "numbers = re.findall((r\"\\d+\", letters[0].text))\n",
    "opinions_data= [int(x) for x in numbers]\n",
    "                             \n",
    "#Find the highest, median and lowest targets\n",
    "letters = soup.find_all('table',class_='mod-ui-table mod-ui-table--colored mod-tearsheet-forecast__table--visible')\n",
    "rows = letters[0].findAll('tr')\n",
    "data = [[td.findChildren(text=True) for td in tr.findAll(\"td\")] for tr in rows]\n",
    "highest_target = float(data[0][2][0])\n",
    "median_target = float(data[1][2][0])\n",
    "lowest_target = float(data[2][2][0])\n",
    "        \n",
    "#Collect the analyst rating separately\n",
    "r = urllib.urlopen('http://www.reuters.com/finance/stocks/analyst/DBKGn.DE').read()\n",
    "soup = BeautifulSoup(r,'lxml')\n",
    "tables = soup.find_all('div', class_='moduleBody')\n",
    "analyst_recommendation = tables[2].find_all('td',class_='data')\n",
    "rating = float(analyst_recommendation[-4].text)     "
   ]
  },
  {
   "cell_type": "markdown",
   "metadata": {},
   "source": [
    "## Visualising the Analyst Data"
   ]
  },
  {
   "cell_type": "code",
   "execution_count": 296,
   "metadata": {
    "collapsed": false
   },
   "outputs": [
    {
     "data": {
      "text/plain": [
       "<matplotlib.figure.Figure at 0x116617390>"
      ]
     },
     "metadata": {},
     "output_type": "display_data"
    },
    {
     "data": {
      "text/plain": [
       "<matplotlib.figure.Figure at 0x116307310>"
      ]
     },
     "metadata": {},
     "output_type": "display_data"
    },
    {
     "data": {
      "text/plain": [
       "<matplotlib.figure.Figure at 0x116178390>"
      ]
     },
     "metadata": {},
     "output_type": "display_data"
    },
    {
     "data": {
      "image/png": "[encoded data removed]",
      "text/plain": [
       "<matplotlib.figure.Figure at 0x116ab1390>"
      ]
     },
     "metadata": {},
     "output_type": "display_data"
    }
   ],
   "source": [
    "barh_opinions(analyst_opinions_table,ht=0.50)"
   ]
  },
  {
   "cell_type": "code",
   "execution_count": 295,
   "metadata": {
    "collapsed": false
   },
   "outputs": [],
   "source": [
    "def barh_opinions(analyst_opinions_table,ht): # the width of the bars,usually 0.35 for five selected constituents displayed\n",
    "    N = len(analyst_opinions_table['Constituent'])\n",
    "    buy_pct = analyst_opinions_table['% Buy']*100\n",
    "    hold_pct = analyst_opinions_table['% Hold']*100\n",
    "    sell_pct = analyst_opinions_table['% Sell']*100\n",
    "    fig = plt.clf()\n",
    "    fig,ax= plt.subplots(figsize=(8,N/1.5))\n",
    "    ind = np.arange(N)    # the x locations for the groups\n",
    "    p1 = ax.barh(ind, sell_pct,height=ht,color='r')\n",
    "    p2 = ax.barh(ind, hold_pct,height=ht, left=sell_pct,color='#ffc000')\n",
    "    p3 = ax.barh(ind, buy_pct,height=ht, left=hold_pct+sell_pct,color='g')\n",
    "    \n",
    "    i=0\n",
    "    for p in p1.patches:\n",
    "            if sell_pct.iloc[i]==0: \n",
    "                ax.annotate('', (p.get_width()/3,p.xy[1]+0.1))\n",
    "            else:\n",
    "                ax.annotate(str(sell_pct.iloc[i])+'%', (p.get_width()/6,p.xy[1]+0.1))\n",
    "            i=i+1\n",
    "    i=0\n",
    "    for p in p2.patches:\n",
    "        ax.annotate(str(hold_pct.iloc[i])+'%', (p.xy[0]+p.get_width()/3,p.xy[1]+0.1))\n",
    "        i=i+1\n",
    "    i=0\n",
    "    for p in p3.patches:\n",
    "        ax.annotate(str(buy_pct.iloc[i])+'%', (p.xy[0]+p.get_width()/3,p.xy[1]+0.1))\n",
    "        i=i+1\n",
    "    \n",
    "    \n",
    "    #plt.ylabel('Constituents')\n",
    "    plt.xlabel('Percentage of Analyst')\n",
    "    plt.title('Analyst Opinions')\n",
    "    plt.yticks(ind,analyst_opinions_table['Constituent'])\n",
    "    plt.xticks(np.arange(0,110,10))\n",
    "    # Put a legend below current axis\n",
    "    #ax.legend(loc='center left', bbox_to_anchor=(0.5, -0.05),fancybox=True, shadow=True, nrow=3)\n",
    "    box = ax.get_position()\n",
    "    ax.set_position([box.x0, box.y0, box.width, box.height])\n",
    "    ax.legend((p1[0], p2[0], p3[0]), ('% Sell', '% Hold','% Buy'),loc='center left', bbox_to_anchor=(1, 0.5)) \n",
    "    \n",
    "    plt.show()"
   ]
  },
  {
   "cell_type": "code",
   "execution_count": 312,
   "metadata": {
    "collapsed": true
   },
   "outputs": [],
   "source": [
    "#Presenting the target prices and analyst prediction\n",
    "def opinion_scatter(constituents_list,analyst_opinions_table):\n",
    "    colors = []\n",
    "    for constituent in constituents_list: # keys are the names of the boys\n",
    "        status = analyst_opinions_table['Analyst recommendation'].loc[analyst_opinions_table['Constituent']==constituent]\n",
    "        if status.values[0] == 'Strong buy':\n",
    "            colors.append('g')\n",
    "        elif status.values[0] == 'Moderate buy':\n",
    "            colors.append('#A9CE1D') #lime?\n",
    "        elif status.values[0] == 'Hold':\n",
    "            colors.append('#ffc000')\n",
    "        elif status.values[0] == 'Moderate sell':\n",
    "            colors.append('#FF8633')\n",
    "        else:\n",
    "            colors.append('r')\n",
    "            \n",
    "        plt.clf()\n",
    "        \n",
    "    X = analyst_opinions_table['Analyst rating']\n",
    "    fig, ax = plt.subplots(figsize=(1,8))\n",
    "    ax.scatter([1]*len(X),X, c=colors,\n",
    "           marker='s', s=100)\n",
    "\n",
    "    ax.yaxis.set_visible(True)\n",
    "    ax.xaxis.set_visible(False)\n",
    "    ax.spines['right'].set_visible(False)\n",
    "    ax.spines['left'].set_visible(False)\n",
    "    ax.spines['top'].set_visible(False)\n",
    "    ax.spines['bottom'].set_visible(False)\n",
    "    ax.yaxis.set_ticks_position('left')\n",
    "\n",
    "    #ax.get_yaxis().set_ticklabels(['what'])\n",
    "    plt.ylim(min(X)-0.4,(max(X+0.4)))\n",
    "    plt.ylabel('Rating')\n",
    "    #plt.title('Analyst recommendation')\n",
    "    plt.figtext(.5,.9,'Analyst Rating & Recommendation ', fontsize=12, ha='left')\n",
    "\n",
    "    for constituent in constituents_list: \n",
    "        recommendation = analyst_opinions_table['Analyst recommendation'].loc[analyst_opinions_table['Constituent']==constituent]\n",
    "        ax.annotate('%s, %s'%(constituent,recommendation.values[0]), xy=(1.1,analyst_opinions_table['Analyst rating'].loc[analyst_opinions_table['Constituent']==constituent]), textcoords='data')\n",
    "        #ax.annotate('%s' , xy=(1.1,analyst_opinion_table['Analyst rating'].loc[analyst_opinion_table['Constituent']==constituent]-0.1), textcoords='data')\n",
    "    #for xy in zip([1]*len(X),X):\n",
    "        #print xy[1]\n",
    "        #ax.annotate('%s' %xy[1], xy=xy, textcoords='data')\n",
    "    \n",
    "    plt.show()"
   ]
  },
  {
   "cell_type": "code",
   "execution_count": 314,
   "metadata": {
    "collapsed": false
   },
   "outputs": [
    {
     "data": {
      "text/plain": [
       "<matplotlib.figure.Figure at 0x11741bc10>"
      ]
     },
     "metadata": {},
     "output_type": "display_data"
    },
    {
     "data": {
      "image/png": "[encoded data removed]",
      "text/plain": [
       "<matplotlib.figure.Figure at 0x116941090>"
      ]
     },
     "metadata": {},
     "output_type": "display_data"
    }
   ],
   "source": [
    "opinion_scatter(constituents_list,analyst_opinions_table)"
   ]
  },
  {
   "cell_type": "markdown",
   "metadata": {},
   "source": [
    "# Insert Analyst rating into MongoDB"
   ]
  }
 ],
 "metadata": {
  "anaconda-cloud": {},
  "kernelspec": {
   "display_name": "Python [conda root]",
   "language": "python",
   "name": "conda-root-py"
  },
  "language_info": {
   "codemirror_mode": {
    "name": "ipython",
    "version": 2
   },
   "file_extension": ".py",
   "mimetype": "text/x-python",
   "name": "python",
   "nbconvert_exporter": "python",
   "pygments_lexer": "ipython2",
   "version": "2.7.12"
  }
 },
 "nbformat": 4,
 "nbformat_minor": 1
}
