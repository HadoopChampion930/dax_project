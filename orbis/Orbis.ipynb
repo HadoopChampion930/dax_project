{
 "cells": [
  {
   "cell_type": "code",
   "execution_count": 1,
   "metadata": {
    "collapsed": true
   },
   "outputs": [],
   "source": [
    "import requests\n",
    "import xml.etree.ElementTree as ET\n",
    "from collections import defaultdict\n",
    "import time"
   ]
  },
  {
   "cell_type": "code",
   "execution_count": 2,
   "metadata": {
    "collapsed": false
   },
   "outputs": [],
   "source": [
    "def get_token():\n",
    "    #get access token\n",
    "    url = 'https://webservices.bvdep.com/orbis/remoteaccess.asmx'\n",
    "    headers = {'Content-Type': 'text/xml'}\n",
    "    data = \"\"\"<?xml version=\"1.0\" encoding=\"utf-8\"?>\n",
    "    <soap12:Envelope xmlns:xsi=\"http://www.w3.org/2001/XMLSchema-instance\" xmlns:xsd=\"http://www.w3.org/2001/XMLSchema\" xmlns:soap12=\"http://www.w3.org/2003/05/soap-envelope\">\n",
    "      <soap12:Body>\n",
    "        <Open xmlns=\"http://bvdep.com/webservices/\">\n",
    "          <username>iGenieWS123</username>\n",
    "          <password>jnecyu4wa!</password>\n",
    "        </Open>\n",
    "      </soap12:Body>\n",
    "    </soap12:Envelope>\"\"\"\n",
    "\n",
    "    response = requests.post(url, headers=headers, data=data)\n",
    "\n",
    "    if response.status_code != requests.codes.ok:\n",
    "        print(response.text)\n",
    "        return None\n",
    "\n",
    "    OpenResponse = ET.fromstring(response.text)\n",
    "    token = OpenResponse[0][0][0].text\n",
    "    print(token)\n",
    "    return token\n"
   ]
  },
  {
   "cell_type": "code",
   "execution_count": 3,
   "metadata": {
    "collapsed": true
   },
   "outputs": [],
   "source": [
    "def close_connection(token):\n",
    "    #get access token\n",
    "    url = 'https://webservices.bvdep.com/orbis/remoteaccess.asmx'\n",
    "    headers = {'Content-Type': 'text/xml'}\n",
    "    data = \"\"\"<?xml version=\"1.0\" encoding=\"utf-8\"?>\n",
    "<soap12:Envelope xmlns:xsi=\"http://www.w3.org/2001/XMLSchema-instance\" xmlns:xsd=\"http://www.w3.org/2001/XMLSchema\" xmlns:soap12=\"http://www.w3.org/2003/05/soap-envelope\">\n",
    "  <soap12:Body>\n",
    "    <Close xmlns=\"http://bvdep.com/webservices/\">\n",
    "      <sessionHandle>{}</sessionHandle>\n",
    "    </Close>\n",
    "  </soap12:Body>\n",
    "</soap12:Envelope>\"\"\".format(token)\n",
    "\n",
    "    response = requests.post(url, headers=headers, data=data)"
   ]
  },
  {
   "cell_type": "code",
   "execution_count": 4,
   "metadata": {
    "collapsed": false
   },
   "outputs": [],
   "source": [
    "def find_by_bvd_id(token):\n",
    "    url = 'https://webservices.bvdep.com/orbis/remoteaccess.asmx'\n",
    "    headers = {'Content-Type': 'text/xml'}\n",
    "    #FindByBvdId\n",
    "    data = \"\"\"<?xml version=\"1.0\" encoding=\"utf-8\"?>\n",
    "    <soap12:Envelope xmlns:xsi=\"http://www.w3.org/2001/XMLSchema-instance\" xmlns:xsd=\"http://www.w3.org/2001/XMLSchema\" xmlns:soap12=\"http://www.w3.org/2003/05/soap-envelope\">\n",
    "      <soap12:Body>\n",
    "        <FindByBVDId xmlns=\"http://bvdep.com/webservices/\">\n",
    "          <sessionHandle>{}</sessionHandle>\n",
    "          <id>{}</id>\n",
    "        </FindByBVDId>\n",
    "      </soap12:Body>\n",
    "    </soap12:Envelope>\"\"\".format(token,\"DE8170003036\")\n",
    "\n",
    "    response = requests.post(url, headers=headers, data=data)\n",
    "\n",
    "    if response.status_code != requests.codes.ok:\n",
    "        print(response.text)\n",
    "        return None\n",
    "\n",
    "    FindByBvdId = ET.fromstring(response.text)\n",
    "    SelectionResult_token = FindByBvdId[0][0][0][0].text\n",
    "    print(SelectionResult_token)\n",
    "    return SelectionResult_token"
   ]
  },
  {
   "cell_type": "code",
   "execution_count": 5,
   "metadata": {
    "collapsed": true
   },
   "outputs": [],
   "source": [
    "def get_data(token, SelectionResult_token, query, field, constituent):        \n",
    "    url = 'https://webservices.bvdep.com/orbis/remoteaccess.asmx'\n",
    "    headers = {'Content-Type': 'text/xml'}\n",
    "    data = \"\"\"<?xml version=\"1.0\" encoding=\"utf-8\"?>\n",
    "<soap12:Envelope xmlns:xsi=\"http://www.w3.org/2001/XMLSchema-instance\" xmlns:xsd=\"http://www.w3.org/2001/XMLSchema\" xmlns:soap12=\"http://www.w3.org/2003/05/soap-envelope\">\n",
    "  <soap12:Body>\n",
    "    <GetData xmlns=\"http://bvdep.com/webservices/\">\n",
    "      <sessionHandle>{0}</sessionHandle>\n",
    "      <selection>\n",
    "        <Token>{1}</Token>\n",
    "        <SelectionCount>1</SelectionCount>\n",
    "      </selection>\n",
    "      <query>{2}</query>\n",
    "      <fromRecord>0</fromRecord>\n",
    "      <nrRecords>5</nrRecords>\n",
    "      <resultFormat>CSV</resultFormat>\n",
    "    </GetData>\n",
    "  </soap12:Body>\n",
    "</soap12:Envelope>\"\"\".format(token,SelectionResult_token,query)\n",
    "\n",
    "    response = requests.post(url, headers=headers, data=data)\n",
    "\n",
    "    if response.status_code != requests.codes.ok:\n",
    "        print(response.text)\n",
    "        with open(\"./results/failed.txt\", 'a') as f:\n",
    "            f.write(\"{} \\n\".format(field))\n",
    "        return None\n",
    "    \n",
    "    with open(\"./results/success.txt\", 'a') as f:\n",
    "            f.write(\"{} \\n\".format(field))\n",
    "\n",
    "    result = response.text\n",
    "    file_name = \"./results/{}_{}.xml\".format(constituent,field)\n",
    "    with open(file_name, 'w') as f:\n",
    "        f.write(result)\n",
    "    return True"
   ]
  },
  {
   "cell_type": "code",
   "execution_count": 6,
   "metadata": {
    "collapsed": true
   },
   "outputs": [],
   "source": [
    "def get_available_fields():\n",
    "    all_fields = defaultdict(list)\n",
    "\n",
    "    available_fields = ET.parse(r'available_fields.xml')\n",
    "    fields = available_fields.getroot()\n",
    "\n",
    "    #i = 0\n",
    "    for child in fields:\n",
    "        #if i == 20:\n",
    "            #break\n",
    "        if len(child) > 0:\n",
    "            document = {\"code\":child.attrib[\"code\"], \"dimension\":child[0].attrib[\"default\"]}\n",
    "        else:\n",
    "            document = {\"code\":child.attrib[\"code\"]}\n",
    "\n",
    "        all_fields[child.attrib[\"code\"].split(\"_\")[0]].append(document)\n",
    "        #i += 1  \n",
    "    return all_fields"
   ]
  },
  {
   "cell_type": "code",
   "execution_count": 7,
   "metadata": {
    "collapsed": true
   },
   "outputs": [],
   "source": [
    "def main():\n",
    "    errors = 0\n",
    "    all_fields = get_available_fields()\n",
    "    token = get_token()\n",
    "    print(token)\n",
    "    selection_token = find_by_bvd_id(token)\n",
    "    \n",
    "    for key in all_fields.keys():\n",
    "        if errors == 2:\n",
    "            print(\"2 errors\")\n",
    "            return\n",
    "        \n",
    "        query = \"SELECT \"\n",
    "        middle = []\n",
    "        for item in all_fields[key]:\n",
    "            part = item[\"code\"] + \" \"\n",
    "            if \"dimension\" in item:\n",
    "                part += \"USING [Parameters.RepeatingDimension={};]\".format(item[\"dimension\"])\n",
    "            middle.append(part)\n",
    "        query += \", \".join(middle) + \" FROM RemoteAccess.A\"\n",
    "\n",
    "        get_data_result = get_data(token,selection_token,query,key,\"BMW\")\n",
    "        \n",
    "        if not get_data_result:\n",
    "            errors += 1\n",
    "            close_connection(token)\n",
    "            time.sleep(900)\n",
    "            token = get_token()\n",
    "            if not token:\n",
    "                print(\"Couldn't get second token\")\n",
    "                return\n",
    "            print(token)\n",
    "            selection_token = find_by_bvd_id(token)\n",
    "            \n",
    "\n",
    "        time.sleep(60)"
   ]
  },
  {
   "cell_type": "code",
   "execution_count": 8,
   "metadata": {
    "collapsed": false
   },
   "outputs": [
    {
     "name": "stdout",
     "output_type": "stream",
     "text": [
      "3L8JEE24B37CB9B\n",
      "3L8JEE24B37CB9B\n",
      "0\n",
      "<?xml version=\"1.0\" encoding=\"utf-8\"?><soap:Envelope xmlns:soap=\"http://www.w3.org/2003/05/soap-envelope\" xmlns:xsi=\"http://www.w3.org/2001/XMLSchema-instance\" xmlns:xsd=\"http://www.w3.org/2001/XMLSchema\"><soap:Body><soap:Fault><soap:Code><soap:Value>soap:Receiver</soap:Value></soap:Code><soap:Reason><soap:Text xml:lang=\"en\">System.Web.Services.Protocols.SoapException: Server was unable to process request. ---&gt; Credits limitations\n",
      "   at System.Web.Services.Protocols.SoapHttpClientProtocol.ReadResponse(SoapClientMessage message, WebResponse response, Stream responseStream, Boolean asyncCall)\n",
      "   at System.Web.Services.Protocols.SoapHttpClientProtocol.Invoke(String methodName, Object[] parameters)\n",
      "   at ProxyRemoteAccess.com.bvdep.webservices.RemoteAccess.GetData(String sessionHandle, SelectionResult selection, String query, Int32 fromRecord, Int32 nrRecords, ResultFormatting resultFormat) in Q:\\QuickFixes\\Releases\\Net\\webservices.bvdep.com\\RootVersion\\web\\Web References\\com.bvdep.webservices\\Reference.cs:line 2174\n",
      "   at ProxyRemoteAccess.RemoteAccess.GetData(String sessionHandle, SelectionResult selection, String query, Int32 fromRecord, Int32 nrRecords, ResultFormatting resultFormat) in Q:\\QuickFixes\\Releases\\Net\\webservices.bvdep.com\\RootVersion\\web\\RemoteAccess.asmx.cs:line 402</soap:Text></soap:Reason><detail /></soap:Fault></soap:Body></soap:Envelope>\n",
      "11G7EE24B71GYWA\n",
      "11G7EE24B71GYWA\n",
      "0\n",
      "<?xml version=\"1.0\" encoding=\"utf-8\"?><soap:Envelope xmlns:soap=\"http://www.w3.org/2003/05/soap-envelope\" xmlns:xsi=\"http://www.w3.org/2001/XMLSchema-instance\" xmlns:xsd=\"http://www.w3.org/2001/XMLSchema\"><soap:Body><soap:Fault><soap:Code><soap:Value>soap:Receiver</soap:Value></soap:Code><soap:Reason><soap:Text xml:lang=\"en\">System.Web.Services.Protocols.SoapException: Server was unable to process request. ---&gt; Credits limitations\n",
      "   at System.Web.Services.Protocols.SoapHttpClientProtocol.ReadResponse(SoapClientMessage message, WebResponse response, Stream responseStream, Boolean asyncCall)\n",
      "   at System.Web.Services.Protocols.SoapHttpClientProtocol.Invoke(String methodName, Object[] parameters)\n",
      "   at ProxyRemoteAccess.com.bvdep.webservices.RemoteAccess.GetData(String sessionHandle, SelectionResult selection, String query, Int32 fromRecord, Int32 nrRecords, ResultFormatting resultFormat) in Q:\\QuickFixes\\Releases\\Net\\webservices.bvdep.com\\RootVersion\\web\\Web References\\com.bvdep.webservices\\Reference.cs:line 2174\n",
      "   at ProxyRemoteAccess.RemoteAccess.GetData(String sessionHandle, SelectionResult selection, String query, Int32 fromRecord, Int32 nrRecords, ResultFormatting resultFormat) in Q:\\QuickFixes\\Releases\\Net\\webservices.bvdep.com\\RootVersion\\web\\RemoteAccess.asmx.cs:line 402</soap:Text></soap:Reason><detail /></soap:Fault></soap:Body></soap:Envelope>\n",
      "3TROEE24AT994WK\n",
      "3TROEE24AT994WK\n",
      "0\n",
      "2 errors\n"
     ]
    }
   ],
   "source": [
    "main()"
   ]
  },
  {
   "cell_type": "code",
   "execution_count": null,
   "metadata": {
    "collapsed": true
   },
   "outputs": [],
   "source": []
  }
 ],
 "metadata": {
  "kernelspec": {
   "display_name": "Python 3",
   "language": "python",
   "name": "python3"
  },
  "language_info": {
   "codemirror_mode": {
    "name": "ipython",
    "version": 3
   },
   "file_extension": ".py",
   "mimetype": "text/x-python",
   "name": "python",
   "nbconvert_exporter": "python",
   "pygments_lexer": "ipython3",
   "version": "3.6.0"
  }
 },
 "nbformat": 4,
 "nbformat_minor": 2
}
