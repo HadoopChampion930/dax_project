{
 "cells": [
  {
   "cell_type": "code",
   "execution_count": 48,
   "metadata": {
    "collapsed": false
   },
   "outputs": [],
   "source": [
    "import pandas as pd\n",
    "import numpy as np\n",
    "from sklearn.model_selection import train_test_split\n",
    "from sklearn.feature_extraction.text import CountVectorizer\n",
    "from sklearn.feature_extraction.text import TfidfTransformer\n",
    "from sklearn.linear_model import LogisticRegression\n",
    "from sklearn.ensemble import RandomForestClassifier\n",
    "from sklearn.pipeline import Pipeline\n",
    "from sklearn.naive_bayes import MultinomialNB\n",
    "from nltk.tokenize import TweetTokenizer\n",
    "from nltk.corpus import stopwords\n",
    "from nltk.stem import PorterStemmer\n",
    "import string\n",
    "from sklearn.externals import joblib\n",
    "from imblearn.over_sampling import RandomOverSampler\n",
    "import os\n",
    "import matplotlib.pyplot as plt\n",
    "%matplotlib inline"
   ]
  },
  {
   "cell_type": "code",
   "execution_count": 49,
   "metadata": {
    "collapsed": true
   },
   "outputs": [],
   "source": [
    "def preprocess_tweet(text):\n",
    "    # Tokenize the tweet text\n",
    "    tokenizer = TweetTokenizer(preserve_case=False, reduce_len=True, strip_handles=False)\n",
    "    tokens = tokenizer.tokenize(text)\n",
    "\n",
    "    # remove links\n",
    "    no_url_tokens = [word for word in tokens if 'http' not in word]\n",
    "\n",
    "    no_url_joined = \" \".join(no_url_tokens)\n",
    "\n",
    "    # remove stop words and punctuation\n",
    "    stop_words = set(stopwords.words('english'))\n",
    "    punct = string.punctuation\n",
    "    punct_1 = punct.replace('#', '')\n",
    "    punct_2 = punct_1.replace('@', '')\n",
    "    stop_words.update(punct_2)\n",
    "    stop_words.add('...')\n",
    "\n",
    "    filtered_tokens = [word for word in no_url_tokens if not word in stop_words]\n",
    "\n",
    "    stemmer = PorterStemmer()\n",
    "    stemmed_tokens = [stemmer.stem(word) if (word[0] != '#' and word[0] != '@') else word for word in filtered_tokens]\n",
    "\n",
    "    return {'semi_processed_text': no_url_joined, 'processed_text': stemmed_tokens}\n",
    "\n",
    "def get_input_data(filename, directory):\n",
    "    df = pd.read_csv(filename,encoding=\"latin-1\")\n",
    "    X_temp = list(df[\"text\"])\n",
    "    y = list(df[\"relevance\"])\n",
    "    \n",
    "    X = []\n",
    "    i = 0\n",
    "    for item in X_temp:\n",
    "        try:\n",
    "            doc = preprocess_tweet(item)\n",
    "            X.append(\" \".join(doc[\"processed_text\"]))\n",
    "            i += 1\n",
    "        except:\n",
    "            print(i)\n",
    "            return\n",
    "        \n",
    "\n",
    "    count_vect = CountVectorizer()\n",
    "    X_train_counts = count_vect.fit_transform(X)\n",
    "    joblib.dump(count_vect, str(os.path.join(directory,\"count_vectorizer.plk\" )))\n",
    "    tf_transformer = TfidfTransformer(use_idf=False).fit(X_train_counts)\n",
    "    X_train_tf = tf_transformer.transform(X_train_counts)\n",
    "    joblib.dump(tf_transformer, str(os.path.join(directory,\"tf_transformer.plk\")))      \n",
    "        \n",
    "    ros = RandomOverSampler(random_state=42)\n",
    "    X_res, y_res = ros.fit_sample(X_train_tf, y)\n",
    "    #X_res = X_train_tf\n",
    "    #y_res = y\n",
    "        \n",
    "    return X_res, y_res"
   ]
  },
  {
   "cell_type": "code",
   "execution_count": 50,
   "metadata": {
    "collapsed": false
   },
   "outputs": [],
   "source": [
    "def train_model(X_train, y_train, model_dir, model_name):\n",
    "    if model_name == \"naive_bayes.plk\":\n",
    "        clf = MultinomialNB().fit(X_train, y_train)\n",
    "        joblib.dump(clf, str(os.path.join(model_dir, model_name)))\n",
    "    if model_name == \"logistic_regression.plk\":\n",
    "        clf = LogisticRegression(class_weight=\"balanced\", C=1.0)\n",
    "        clf.fit(X_train, y_train)\n",
    "        joblib.dump(clf, str(os.path.join(model_dir, model_name)))\n",
    "    if model_name == \"random_forest.plk\":\n",
    "        clf = RandomForestClassifier(n_estimators=100)\n",
    "        clf.fit(X_train, y_train)\n",
    "        joblib.dump(clf, str(os.path.join(model_dir, model_name)))"
   ]
  },
  {
   "cell_type": "code",
   "execution_count": 51,
   "metadata": {
    "collapsed": true
   },
   "outputs": [],
   "source": [
    "def main(filename, model_dir, model_name,train=False):\n",
    "    X, y = get_input_data(filename, model_dir)\n",
    "    X_train, X_test, y_train, y_test = train_test_split(X, y, test_size=0.25, random_state=42)\n",
    "    if train:\n",
    "        print(\"Training model.\")\n",
    "        train_model(X_train,y_train,model_dir, model_name)\n",
    "    \n",
    "    classifier = joblib.load(str(os.path.join(model_dir, model_name))) \n",
    "    \n",
    "    predicted = classifier.predict(X_test)\n",
    "    print(\"Accuracy: \")\n",
    "    print(np.mean(predicted == y_test))    "
   ]
  },
  {
   "cell_type": "code",
   "execution_count": 52,
   "metadata": {
    "collapsed": false
   },
   "outputs": [
    {
     "name": "stderr",
     "output_type": "stream",
     "text": [
      "C:\\Users\\Uly\\Anaconda3\\lib\\site-packages\\IPython\\core\\interactiveshell.py:2881: DtypeWarning: Columns (9,10,11,12,13,14,15,16,17,18,19,20,21,22,23,24,25,26,27,28,29,30,31,32,33,34,35) have mixed types. Specify dtype option on import or set low_memory=False.\n",
      "  exec(code_obj, self.user_global_ns, self.user_ns)\n"
     ]
    },
    {
     "name": "stdout",
     "output_type": "stream",
     "text": [
      "Training model.\n",
      "Accuracy: \n",
      "0.997041740323\n"
     ]
    }
   ],
   "source": [
    "main(str(os.path.join(\"..\", \"..\", \"data_dir\", \"twitter_naive_bayes\", \"bmw_training.csv\")),\n",
    "    str(os.path.join(\"..\",\"..\",\"models\")), \"random_forest.plk\",\n",
    "    True)"
   ]
  },
  {
   "cell_type": "code",
   "execution_count": null,
   "metadata": {
    "collapsed": true
   },
   "outputs": [],
   "source": []
  }
 ],
 "metadata": {
  "anaconda-cloud": {},
  "kernelspec": {
   "display_name": "Python [default]",
   "language": "python",
   "name": "python3"
  },
  "language_info": {
   "codemirror_mode": {
    "name": "ipython",
    "version": 3
   },
   "file_extension": ".py",
   "mimetype": "text/x-python",
   "name": "python",
   "nbconvert_exporter": "python",
   "pygments_lexer": "ipython3",
   "version": "3.5.2"
  }
 },
 "nbformat": 4,
 "nbformat_minor": 1
}
