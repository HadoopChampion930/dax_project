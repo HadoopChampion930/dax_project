{
 "cells": [
  {
   "cell_type": "code",
   "execution_count": 1,
   "metadata": {
    "collapsed": true
   },
   "outputs": [],
   "source": [
    "import pandas as pd\n",
    "import numpy as np\n",
    "from sklearn.model_selection import train_test_split\n",
    "from sklearn.feature_extraction.text import CountVectorizer\n",
    "from sklearn.feature_extraction.text import TfidfTransformer\n",
    "from sklearn.pipeline import Pipeline\n",
    "from sklearn.naive_bayes import MultinomialNB\n",
    "from nltk.tokenize import TweetTokenizer\n",
    "from nltk.corpus import stopwords\n",
    "from nltk.stem import PorterStemmer\n",
    "import string\n",
    "from sklearn.externals import joblib\n",
    "from imblearn.over_sampling import RandomOverSampler\n",
    "import matplotlib.pyplot as plt\n",
    "%matplotlib inline"
   ]
  },
  {
   "cell_type": "code",
   "execution_count": 12,
   "metadata": {
    "collapsed": true
   },
   "outputs": [],
   "source": [
    "def preprocess_tweet(text):\n",
    "    # Tokenize the tweet text\n",
    "    tokenizer = TweetTokenizer(preserve_case=False, reduce_len=True, strip_handles=False)\n",
    "    tokens = tokenizer.tokenize(text)\n",
    "\n",
    "    # remove links\n",
    "    no_url_tokens = [word for word in tokens if 'http' not in word]\n",
    "\n",
    "    no_url_joined = \" \".join(no_url_tokens)\n",
    "\n",
    "    # remove stop words and punctuation\n",
    "    stop_words = set(stopwords.words('english'))\n",
    "    punct = string.punctuation\n",
    "    punct_1 = punct.replace('#', '')\n",
    "    punct_2 = punct_1.replace('@', '')\n",
    "    stop_words.update(punct_2)\n",
    "    stop_words.add('...')\n",
    "\n",
    "    filtered_tokens = [word for word in no_url_tokens if not word in stop_words]\n",
    "\n",
    "    stemmer = PorterStemmer()\n",
    "    stemmed_tokens = [stemmer.stem(word) if (word[0] != '#' and word[0] != '@') else word for word in filtered_tokens]\n",
    "\n",
    "    return {'semi_processed_text': no_url_joined, 'processed_text': stemmed_tokens}\n",
    "\n",
    "def get_input_data(filename, directory):\n",
    "    df = pd.read_csv(filename,encoding=\"latin-1\")\n",
    "    X_temp = list(df[\"semi_processed_text\"])\n",
    "    y = list(df[\"Relevance\"])\n",
    "    \n",
    "    X = []\n",
    "    i = 0\n",
    "    for item in X_temp:\n",
    "        try:\n",
    "            doc = preprocess_tweet(item)\n",
    "            X.append(\" \".join(doc[\"processed_text\"]))\n",
    "            i += 1\n",
    "        except:\n",
    "            print(i)\n",
    "            return\n",
    "        \n",
    "\n",
    "    count_vect = CountVectorizer()\n",
    "    X_train_counts = count_vect.fit_transform(X)\n",
    "    joblib.dump(count_vect, directory + r\"count_vectorizer.plk\")\n",
    "    tf_transformer = TfidfTransformer(use_idf=False).fit(X_train_counts)\n",
    "    X_train_tf = tf_transformer.transform(X_train_counts)\n",
    "    joblib.dump(tf_transformer, directory + r\"tf_transformer.plk\")      \n",
    "        \n",
    "    ros = RandomOverSampler(random_state=42)\n",
    "    X_res, y_res = ros.fit_sample(X_train_tf, y)\n",
    "        \n",
    "    return X_res, y_res"
   ]
  },
  {
   "cell_type": "code",
   "execution_count": 13,
   "metadata": {
    "collapsed": false
   },
   "outputs": [],
   "source": [
    "def train_model(X_train, y_train, model_dir):\n",
    "    clf = MultinomialNB().fit(X_train, y_train)\n",
    "    joblib.dump(clf, model_dir + \"naive_bayes.plk\")"
   ]
  },
  {
   "cell_type": "code",
   "execution_count": 16,
   "metadata": {
    "collapsed": true
   },
   "outputs": [],
   "source": [
    "def main(filename, model_dir, train=False):\n",
    "    X, y = get_input_data(filename, model_dir)\n",
    "    X_train, X_test, y_train, y_test = train_test_split(X, y, test_size=0.25, random_state=42)\n",
    "    if train:\n",
    "        print(\"Training model.\")\n",
    "        train_model(X_train,y_train,model_dir)\n",
    "    \n",
    "    classifier = joblib.load(model_dir + \"naive_bayes.plk\") \n",
    "    \n",
    "    predicted = classifier.predict(X_test)\n",
    "    print(\"Accuracy: \")\n",
    "    print(np.mean(predicted == y_test))\n",
    "    \n",
    "    "
   ]
  },
  {
   "cell_type": "code",
   "execution_count": 17,
   "metadata": {
    "collapsed": false
   },
   "outputs": [
    {
     "name": "stdout",
     "output_type": "stream",
     "text": [
      "Accuracy: \n",
      "0.970010736013\n"
     ]
    }
   ],
   "source": [
    "main(r\"/Users/Ulysses/Desktop/Desktop/dax/data_dir/twitter_naive_bayes/adidas_training.csv\",\n",
    "    r\"/Users/Ulysses/Desktop/Desktop/dax/model/\",\n",
    "    False)"
   ]
  },
  {
   "cell_type": "code",
   "execution_count": null,
   "metadata": {
    "collapsed": true
   },
   "outputs": [],
   "source": []
  }
 ],
 "metadata": {
  "anaconda-cloud": {},
  "kernelspec": {
   "display_name": "Python 3",
   "language": "python",
   "name": "python3"
  },
  "language_info": {
   "codemirror_mode": {
    "name": "ipython",
    "version": 3
   },
   "file_extension": ".py",
   "mimetype": "text/x-python",
   "name": "python",
   "nbconvert_exporter": "python",
   "pygments_lexer": "ipython3",
   "version": "3.6.0"
  }
 },
 "nbformat": 4,
 "nbformat_minor": 1
}
